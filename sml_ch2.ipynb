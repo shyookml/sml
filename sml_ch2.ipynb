{
  "nbformat": 4,
  "nbformat_minor": 0,
  "metadata": {
    "colab": {
      "provenance": [],
      "authorship_tag": "ABX9TyOkZ8XObk0Y2OyPVXnTDgbO",
      "include_colab_link": true
    },
    "kernelspec": {
      "name": "python3",
      "display_name": "Python 3"
    },
    "language_info": {
      "name": "python"
    }
  },
  "cells": [
    {
      "cell_type": "markdown",
      "metadata": {
        "id": "view-in-github",
        "colab_type": "text"
      },
      "source": [
        "<a href=\"https://colab.research.google.com/github/shyookml/sml/blob/ch2/sml_ch2.ipynb\" target=\"_parent\"><img src=\"https://colab.research.google.com/assets/colab-badge.svg\" alt=\"Open In Colab\"/></a>"
      ]
    },
    {
      "cell_type": "markdown",
      "source": [
        "# Chapter 2: Ex.2-1\n",
        "# SVD (Singular value decomposition)\n",
        "Based on the definition of Singular value decomposition"
      ],
      "metadata": {
        "id": "UKlYLoa1aSH8"
      }
    },
    {
      "cell_type": "code",
      "execution_count": 1,
      "metadata": {
        "colab": {
          "base_uri": "https://localhost:8080/"
        },
        "id": "z3dfaSoDxRJA",
        "outputId": "66cde1ca-9e1f-41a1-8e0d-03db259d3852"
      },
      "outputs": [
        {
          "output_type": "stream",
          "name": "stdout",
          "text": [
            "A= [[ 1.  1.]\n",
            " [ 1.  1.]\n",
            " [-1.  1.]]\n",
            "AT= [[ 1.  1. -1.]\n",
            " [ 1.  1.  1.]]\n",
            "V=\n",
            "[[ 0.70710678 -0.70710678]\n",
            " [ 0.70710678  0.70710678]]\n",
            "eigvec_M= [[ 0.70710678 -0.70710678  0.        ]\n",
            " [ 0.70710678  0.70710678  0.        ]\n",
            " [ 0.          0.          1.        ]]\n",
            "U=\n",
            "[[ 0.70710678 -0.70710678  0.        ]\n",
            " [ 0.70710678  0.70710678  0.        ]\n",
            " [ 0.          0.          1.        ]]\n",
            "Sigma=\n",
            "[[2.00000000e+00 4.47422863e-17]\n",
            " [3.14018492e-16 0.00000000e+00]\n",
            " [0.00000000e+00 1.41421356e+00]]\n",
            "A=\n",
            "[[ 1.  1.]\n",
            " [ 1.  1.]\n",
            " [-1.  1.]]\n"
          ]
        }
      ],
      "source": [
        "import numpy as np\n",
        "import numpy.linalg as nla\n",
        "\n",
        "A=np.array([[1,1],[1,1],[-1,1]],float)\n",
        "AT=np.transpose(A)\n",
        "\n",
        "print(\"A=\",A)\n",
        "print(\"AT=\",AT)\n",
        "\n",
        "M=np.dot(AT,A)\n",
        "eigval_M,eigvec_M=nla.eig(M)\n",
        "V=np.copy(eigvec_M)\n",
        "print(\"V=\")\n",
        "print(V)\n",
        "\n",
        "M=np.dot(A,AT)\n",
        "eigval_M,eigvec_M=nla.eig(M)\n",
        "print(\"eigvec_M=\",eigvec_M)\n",
        "U=np.copy(eigvec_M)\n",
        "print(\"U=\")\n",
        "print(U)\n",
        "\n",
        "Sigma=np.dot(np.transpose(U),A)\n",
        "Sigma=np.dot(Sigma,V)\n",
        "print(\"Sigma=\")\n",
        "print(Sigma)\n",
        "AA=np.dot(U,Sigma)\n",
        "AA=np.dot(AA,np.transpose(V))\n",
        "print(\"A=\")\n",
        "print(AA)"
      ]
    },
    {
      "cell_type": "markdown",
      "source": [
        "## Using svd function in numpy"
      ],
      "metadata": {
        "id": "g2Ael-Osay5X"
      }
    },
    {
      "cell_type": "code",
      "source": [
        "import numpy as np\n",
        "import numpy.linalg as nla\n",
        "U,Sigma,V=nla.svd(A,full_matrices=True)\n",
        "print(\"U=\")\n",
        "print(U)\n",
        "print(\"V=\")\n",
        "print(V)\n",
        "print(\"Sigma=\")\n",
        "print(Sigma)"
      ],
      "metadata": {
        "colab": {
          "base_uri": "https://localhost:8080/"
        },
        "id": "SQG5NdGjzN2I",
        "outputId": "58598ae3-e4e6-49c8-be54-36270514dc91"
      },
      "execution_count": 2,
      "outputs": [
        {
          "output_type": "stream",
          "name": "stdout",
          "text": [
            "U=\n",
            "[[-7.07106781e-01 -4.02873103e-17  7.07106781e-01]\n",
            " [-7.07106781e-01 -2.66910636e-16 -7.07106781e-01]\n",
            " [ 1.12180787e-16 -1.00000000e+00  5.55111512e-17]]\n",
            "V=\n",
            "[[-0.70710678 -0.70710678]\n",
            " [ 0.70710678 -0.70710678]]\n",
            "Sigma=\n",
            "[2.         1.41421356]\n"
          ]
        }
      ]
    },
    {
      "cell_type": "markdown",
      "source": [
        "# define my own svd funcion"
      ],
      "metadata": {
        "id": "Wj4E58IXSvjn"
      }
    },
    {
      "cell_type": "code",
      "source": [
        "import numpy as np\n",
        "import numpy.linalg as nla\n",
        "\n",
        "def svd(A):\n",
        "  AT=np.transpose(A)\n",
        "  M=np.dot(AT,A)\n",
        "  eigval_M,eigvec_M=nla.eig(M)\n",
        "  idx=np.argsort(eigval_M)\n",
        "  #idx=idx[::-1]\n",
        "  eigval_M=eigval_M[idx]\n",
        "  eigvec_M=eigvec_M[:,idx]\n",
        "\n",
        "  V=np.copy(eigvec_M)\n",
        "\n",
        "  M=np.dot(A,AT)\n",
        "  eigval_M,eigvec_M=nla.eig(M)\n",
        "  idx=np.argsort(eigval_M)\n",
        "  #idx=idx[::-1]\n",
        "  eigval_M=eigval_M[idx]\n",
        "  eigvec_M=eigvec_M[:,idx]\n",
        "\n",
        "  U=np.copy(eigvec_M)\n",
        "\n",
        "  Sigma=np.dot(np.transpose(U),A)\n",
        "  Sigma=np.dot(Sigma,V)\n",
        "\n",
        "  return U,Sigma,V"
      ],
      "metadata": {
        "id": "usZqvgMSS4Vi"
      },
      "execution_count": 3,
      "outputs": []
    },
    {
      "cell_type": "code",
      "source": [
        "A=np.array([[1,1],[1,1],[-1,1]],float)\n",
        "U,Sigma,V=svd(A)\n",
        "print(\"U=\")\n",
        "print(U)\n",
        "print(\"Sigma=\")\n",
        "print(Sigma)\n",
        "print(\"V=\")\n",
        "print(V)\n",
        "print(\"\")\n",
        "print(np.dot(np.dot(U,Sigma),np.transpose(V)))"
      ],
      "metadata": {
        "colab": {
          "base_uri": "https://localhost:8080/"
        },
        "id": "ivlL-N95T1ae",
        "outputId": "5a94b1f9-b30f-4f1d-84bd-9120fe3b4991"
      },
      "execution_count": 4,
      "outputs": [
        {
          "output_type": "stream",
          "name": "stdout",
          "text": [
            "U=\n",
            "[[-0.70710678  0.          0.70710678]\n",
            " [ 0.70710678  0.          0.70710678]\n",
            " [ 0.          1.          0.        ]]\n",
            "Sigma=\n",
            "[[0.00000000e+00 3.14018492e-16]\n",
            " [1.41421356e+00 0.00000000e+00]\n",
            " [4.47422863e-17 2.00000000e+00]]\n",
            "V=\n",
            "[[-0.70710678  0.70710678]\n",
            " [ 0.70710678  0.70710678]]\n",
            "\n",
            "[[ 1.  1.]\n",
            " [ 1.  1.]\n",
            " [-1.  1.]]\n"
          ]
        }
      ]
    },
    {
      "cell_type": "markdown",
      "source": [
        "# CUR 분해"
      ],
      "metadata": {
        "id": "R5l8BTJhYSUb"
      }
    },
    {
      "cell_type": "code",
      "source": [
        "import numpy as np\n",
        "import numpy.linalg as nla\n",
        "import numpy.random as nr\n",
        "A=np.array([[4,4,4,0,0],[2,2,2,0,0],[5,5,5,0,0],[1,1,1,0,0],[0,0,0,3,3],[0,0,0,4,4],[0,0,0,1,1]],float)\n",
        "# print(A)\n",
        "# print(A**2)\n",
        "\n",
        "p=np.sum(A**2,axis=0)  # Frobenius norm을 이용한 확률\n",
        "q=np.sum(A**2,axis=1)\n",
        "p/=np.sum(p)\n",
        "q/=np.sum(q)\n",
        "print(p)\n",
        "print(q)\n",
        "\n",
        "r=2    # 뽑을 행/열의 갯수\n",
        "col_list=nr.choice(np.array(range(len(p))),r,replace=False,p=p)\n",
        "print(col_list)\n",
        "row_list=nr.choice(np.array(range(len(q))),r,replace=False,p=q)\n",
        "print(row_list)\n",
        "\n",
        "# for ex 2-5 only\n",
        "col_list[0]=1\n",
        "col_list[1]=3\n",
        "row_list[0]=0\n",
        "row_list[1]=2\n",
        "\n",
        "C=np.zeros([A.shape[0],r],float)\n",
        "R=np.zeros([r,A.shape[1]],float)\n",
        "for i in range(r):\n",
        "  C[:,i]=A[:,col_list[i]]\n",
        "  C[:,i]/=((r*p[col_list[i]])**0.5)\n",
        "  R[i,:]=A[row_list[i],:]\n",
        "  R[i,:]/=((r*q[row_list[i]])**0.5)\n",
        "print(\"C=\")\n",
        "print(C)\n",
        "\n",
        "print(\"R=\")\n",
        "print(R)\n",
        "\n",
        "W=np.zeros([r,r],float)\n",
        "for i in range(r):\n",
        "  for j in range(r):\n",
        "    W[i,j]=A[row_list[i],col_list[j]]\n",
        "print(\"W=\")\n",
        "print(W)\n",
        "\n",
        "X,Sigma,Y=svd(W)\n",
        "\n",
        "print(\"\\nX=\")\n",
        "print(X)\n",
        "print(\"\\nSigma=\")\n",
        "print(Sigma)\n",
        "print(\"\\nY=\")\n",
        "print(Y)\n",
        "print(\"\")\n",
        "#print(np.dot(np.dot(X,Sigma),np.transpose(Y)))\n",
        "InvSig=np.zeros_like(np.transpose(Sigma))\n",
        "for i in range(Sigma.shape[0]):\n",
        "  if abs(Sigma[i,i])<=1.0e-6:\n",
        "    InvSig[i,i]=0.0\n",
        "  else:\n",
        "    InvSig[i,i]=1/Sigma[i,j]\n",
        "print(\"\\nInvSig=\")\n",
        "print(InvSig)\n",
        "\n",
        "InvSig2=np.dot(InvSig,InvSig)\n",
        "print(\"\\nInvSig^2=\")\n",
        "print(InvSig2)\n",
        "U=np.dot(Y,InvSig2)\n",
        "U=np.dot(U,InvSig)\n",
        "U=np.dot(U,np.transpose(X))\n",
        "\n",
        "print(\"\\nU=\")\n",
        "print(U)\n",
        "\n",
        "Acur=np.dot(np.dot(C,U),R)\n",
        "print(\"\\nA_{CUR}=\")\n",
        "print(Acur)"
      ],
      "metadata": {
        "id": "kQhy4mlVcdqN",
        "colab": {
          "base_uri": "https://localhost:8080/"
        },
        "outputId": "ef204e4e-0a5f-425b-d1ef-83b6e9274c03"
      },
      "execution_count": 5,
      "outputs": [
        {
          "output_type": "stream",
          "name": "stdout",
          "text": [
            "[0.24210526 0.24210526 0.24210526 0.13684211 0.13684211]\n",
            "[0.25263158 0.06315789 0.39473684 0.01578947 0.09473684 0.16842105\n",
            " 0.01052632]\n",
            "[4 1]\n",
            "[1 2]\n",
            "C=\n",
            "[[5.7483457  0.        ]\n",
            " [2.87417285 0.        ]\n",
            " [7.18543212 0.        ]\n",
            " [1.43708642 0.        ]\n",
            " [0.         5.73451091]\n",
            " [0.         7.64601455]\n",
            " [0.         1.91150364]]\n",
            "R=\n",
            "[[5.62731434 5.62731434 5.62731434 0.         0.        ]\n",
            " [5.62731434 5.62731434 5.62731434 0.         0.        ]]\n",
            "W=\n",
            "[[4. 0.]\n",
            " [5. 0.]]\n",
            "\n",
            "X=\n",
            "[[-0.78086881 -0.62469505]\n",
            " [ 0.62469505 -0.78086881]]\n",
            "\n",
            "Sigma=\n",
            "[[ 0.00000000e+00 -2.22044605e-16]\n",
            " [ 0.00000000e+00 -6.40312424e+00]]\n",
            "\n",
            "Y=\n",
            "[[0. 1.]\n",
            " [1. 0.]]\n",
            "\n",
            "\n",
            "InvSig=\n",
            "[[ 0.          0.        ]\n",
            " [ 0.         -0.15617376]]\n",
            "\n",
            "InvSig^2=\n",
            "[[0.         0.        ]\n",
            " [0.         0.02439024]]\n",
            "\n",
            "U=\n",
            "[[0.00237954 0.00297442]\n",
            " [0.         0.        ]]\n",
            "\n",
            "A_{CUR}=\n",
            "[[0.17318842 0.17318842 0.17318842 0.         0.        ]\n",
            " [0.08659421 0.08659421 0.08659421 0.         0.        ]\n",
            " [0.21648552 0.21648552 0.21648552 0.         0.        ]\n",
            " [0.0432971  0.0432971  0.0432971  0.         0.        ]\n",
            " [0.         0.         0.         0.         0.        ]\n",
            " [0.         0.         0.         0.         0.        ]\n",
            " [0.         0.         0.         0.         0.        ]]\n"
          ]
        }
      ]
    },
    {
      "cell_type": "markdown",
      "source": [
        "## CUR 함수화"
      ],
      "metadata": {
        "id": "VYKKhhr6aBiZ"
      }
    },
    {
      "cell_type": "code",
      "source": [
        "import numpy as np\n",
        "import numpy.linalg as nla\n",
        "import numpy.random as nr\n",
        "\n",
        "def cur(A,r=2):\n",
        "  p=np.sum(A**2,axis=0)  # Frobenius norm을 이용한 확률\n",
        "  q=np.sum(A**2,axis=1)\n",
        "  p/=np.sum(p)\n",
        "  q/=np.sum(q)\n",
        "\n",
        "  col_list=nr.choice(np.array(range(len(p))),r,replace=False,p=p)\n",
        "  row_list=nr.choice(np.array(range(len(q))),r,replace=False,p=q)\n",
        "\n",
        "  # for ex 2-5 only\n",
        "  col_list[0]=1\n",
        "  col_list[1]=3\n",
        "  row_list[0]=0\n",
        "  row_list[1]=2\n",
        "\n",
        "  C=np.zeros([A.shape[0],r],float)\n",
        "  R=np.zeros([r,A.shape[1]],float)\n",
        "  for i in range(r):\n",
        "    C[:,i]=A[:,col_list[i]]\n",
        "    C[:,i]/=((r*p[col_list[i]])**0.5)\n",
        "    R[i,:]=A[row_list[i],:]\n",
        "    R[i,:]/=((r*q[row_list[i]])**0.5)\n",
        "\n",
        "  W=np.zeros([r,r],float)\n",
        "  for i in range(r):\n",
        "    for j in range(r):\n",
        "      W[i,j]=A[row_list[i],col_list[j]]\n",
        "\n",
        "  X,Sigma,Y=svd(W)\n",
        "\n",
        "  #print(np.dot(np.dot(X,Sigma),np.transpose(Y)))\n",
        "  InvSig=np.zeros_like(np.transpose(Sigma))\n",
        "  for i in range(Sigma.shape[0]):\n",
        "    if abs(Sigma[i,i])<=1.0e-6:\n",
        "      InvSig[i,i]=0.0\n",
        "    else:\n",
        "      InvSig[i,i]=1/Sigma[i,j]\n",
        "\n",
        "  InvSig2=np.dot(InvSig,InvSig)\n",
        "\n",
        "  U=np.dot(Y,InvSig2)\n",
        "  U=np.dot(U,InvSig)\n",
        "  U=np.dot(U,np.transpose(X))\n",
        "\n",
        "  return C,U,R"
      ],
      "metadata": {
        "id": "DlMrGePvaE11"
      },
      "execution_count": 6,
      "outputs": []
    },
    {
      "cell_type": "code",
      "source": [
        "import numpy as np\n",
        "import numpy.linalg as nla\n",
        "import numpy.random as nr\n",
        "A=np.array([[4,4,4,0,0],[2,2,2,0,0],[5,5,5,0,0],[1,1,1,0,0],[0,0,0,3,3],[0,0,0,4,4],[0,0,0,1,1]],float)\n",
        "\n",
        "C,U,R=cur(A)\n",
        "print(\"C=\")\n",
        "print(C)\n",
        "print(\"\\nR=\")\n",
        "print(R)\n",
        "print(\"\\nU=\")\n",
        "print(U)"
      ],
      "metadata": {
        "colab": {
          "base_uri": "https://localhost:8080/"
        },
        "id": "zk9g3zH7arxt",
        "outputId": "3462cb97-7a88-4dfa-8310-8843dfd5183f"
      },
      "execution_count": 7,
      "outputs": [
        {
          "output_type": "stream",
          "name": "stdout",
          "text": [
            "C=\n",
            "[[5.7483457  0.        ]\n",
            " [2.87417285 0.        ]\n",
            " [7.18543212 0.        ]\n",
            " [1.43708642 0.        ]\n",
            " [0.         5.73451091]\n",
            " [0.         7.64601455]\n",
            " [0.         1.91150364]]\n",
            "\n",
            "R=\n",
            "[[5.62731434 5.62731434 5.62731434 0.         0.        ]\n",
            " [5.62731434 5.62731434 5.62731434 0.         0.        ]]\n",
            "\n",
            "U=\n",
            "[[0.00237954 0.00297442]\n",
            " [0.         0.        ]]\n"
          ]
        }
      ]
    }
  ]
}